{
 "cells": [
  {
   "cell_type": "code",
   "execution_count": 3,
   "id": "b0a9c7f7-0d10-4dcd-a143-c5a8414889ad",
   "metadata": {},
   "outputs": [
    {
     "name": "stdout",
     "output_type": "stream",
     "text": [
      "Shape of mat:  (9, 9)\n",
      "Shape of f:  (9, 77, 14)\n",
      "Shape of counts_total: (9, 14)\n",
      "Final f_vec: [0.06087155 0.06530968 0.06255483 0.06555346 0.06498756 0.06662184\n",
      " 0.06580113 0.06874638 0.07331006]\n",
      "f[:, 0, 13]: [0.01212121 0.09195402 0.07159763 0.05546218 0.14159292 0.02234637\n",
      " 0.04016913 0.05235602 0.        ]\n"
     ]
    }
   ],
   "source": [
    "import numpy as np\n",
    "import pandas as pd\n",
    "import random\n",
    "import math\n",
    "\n",
    "# Load data\n",
    "mat = np.load(\"Amean_Alpha.npy\") \n",
    "f = np.load(\"freq_Alpha.npy\") \n",
    "counts_total = np.load(\"totcounts_Alpha.npy\")\n",
    "\n",
    "print(\"Shape of mat: \", np.shape(mat))\n",
    "print(\"Shape of f: \", np.shape(f))\n",
    "print(\"Shape of counts_total:\", np.shape(counts_total))\n",
    "\n",
    "N = counts_total[:,13]*100 #Selecting total sequences starting at last time step (I included the x100 to suppress noise)\n",
    "x = f[:,0,13] #Selecting allele 0 at last time step\n",
    "\n",
    "\n",
    "time_steps = []\n",
    "\n",
    "# Compute the neutral dynamics and store in time_steps\n",
    "for s in range(220):\n",
    "    x_N = []\n",
    "\n",
    "    #adding noise to x by sampling from binomial distrubution\n",
    "    for i in range(len(x)):\n",
    "        x_i = np.random.binomial(N[i], x[i], size=None) / N[i] #For each deme i\n",
    "        x_N.append(x_i) #assembling the x vector with noise modification\n",
    "\n",
    "    x_N = np.array(x_N)\n",
    "    \n",
    "    x = mat.dot(x_N) #computing the next time step\n",
    "    time_steps.append(x) #storing\n",
    "\n",
    "# Generate index values as a separate column\n",
    "index_column = list(range(len(time_steps)))\n",
    "\n",
    "#time_steps is a list of lists, where each inner list has 9 elements (for 9 regions)\n",
    "column_names = [f\"Region_{i}\" for i in range(9)]\n",
    "\n",
    "# Convert results to a DataFrame\n",
    "time_steps_df = pd.DataFrame(time_steps, columns=column_names)\n",
    "\n",
    "# Set a synthetic datetime index with weekly frequency starting from a specific date (This is necessary for the transformer input)\n",
    "date_index = pd.date_range(start='2023-01-01', periods=len(time_steps_df), freq='W')\n",
    "\n",
    "# Insert the date index as the first column\n",
    "time_steps_df.insert(0, \"Date\", date_index)\n",
    "\n",
    "# Save the DataFrame to CSV without the default DataFrame index\n",
    "time_steps_df.to_csv(\"unofficial_data.csv\", index=False)\n",
    "\n",
    "\n",
    "# Print final values and shapes for reference\n",
    "print(\"Final f_vec:\", x)\n",
    "print(\"f[:, 0, 13]:\", f[:, 0, 13])\n"
   ]
  },
  {
   "cell_type": "code",
   "execution_count": null,
   "id": "bc6d0fb1-eb0c-4bcd-ace8-58f89d90a411",
   "metadata": {},
   "outputs": [],
   "source": []
  },
  {
   "cell_type": "code",
   "execution_count": null,
   "id": "1c742e27-ba90-4838-ac4e-346504249cb5",
   "metadata": {},
   "outputs": [],
   "source": []
  },
  {
   "cell_type": "code",
   "execution_count": null,
   "id": "47ea7b93-638f-4b76-bc10-9675495fd826",
   "metadata": {},
   "outputs": [],
   "source": []
  }
 ],
 "metadata": {
  "kernelspec": {
   "display_name": "Python (biophys)",
   "language": "python",
   "name": "biophys"
  },
  "language_info": {
   "codemirror_mode": {
    "name": "ipython",
    "version": 3
   },
   "file_extension": ".py",
   "mimetype": "text/x-python",
   "name": "python",
   "nbconvert_exporter": "python",
   "pygments_lexer": "ipython3",
   "version": "3.9.19"
  }
 },
 "nbformat": 4,
 "nbformat_minor": 5
}
